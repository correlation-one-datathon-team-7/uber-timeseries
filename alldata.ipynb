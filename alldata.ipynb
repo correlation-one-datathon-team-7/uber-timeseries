{
 "cells": [
  {
   "cell_type": "code",
   "execution_count": 1,
   "metadata": {
    "collapsed": true
   },
   "outputs": [],
   "source": [
    "# premises\n",
    "\n",
    "import pandas as pd\n",
    "import matplotlib\n",
    "import matplotlib.pyplot as plt\n",
    "matplotlib.style.use('ggplot')\n",
    "%matplotlib inline"
   ]
  },
  {
   "cell_type": "code",
   "execution_count": 2,
   "metadata": {
    "collapsed": true
   },
   "outputs": [],
   "source": [
    "# definition for array of result dataset\n",
    "# 0: green, 1: yellow14q2, 2: yellow14q3, 3:yellow15q1, 4:yellow15q2, 5:uber14\n",
    "list_dataset = []\n",
    "list_datasetfiles = ['green_trips.csv.gz',\n",
    "                     'yellow_trips_2014Q2.csv.gz',\n",
    "                     'yellow_trips_2014Q3.csv.gz',\n",
    "                     'yellow_trips_2015Q1.csv.gz',\n",
    "                     'yellow_trips_2015Q2.csv.gz'\n",
    "                    #,'uber_trips_2014.csv.gz'\n",
    "                    ]\n"
   ]
  },
  {
   "cell_type": "code",
   "execution_count": 4,
   "metadata": {
    "collapsed": true
   },
   "outputs": [],
   "source": [
    "# name for output csv files\n",
    "list_outputfiles =[\n",
    "    'green_agg_count_day.csv',\n",
    "    'yellow_agg_count_2014Q2.csv',\n",
    "    'yellow_agg_count_2014Q3.csv',\n",
    "    'yellow_agg_count_2015Q1.csv',\n",
    "    'yellow_agg_count_2015Q2.csv',\n",
    "    #'uber_agg_count_2014.csv'\n",
    "]"
   ]
  },
  {
   "cell_type": "code",
   "execution_count": 5,
   "metadata": {
    "collapsed": true
   },
   "outputs": [],
   "source": [
    "for i, file in enumerate(list_datasetfiles):\n",
    "    dat = pd.read_csv(file, compression='gzip', header = 0)\n",
    "    dat['pickup_datetime'] = pd.to_datetime(dat['pickup_datetime'], errors='coerce')\n",
    "    ts = dat.set_index('pickup_datetime')\n",
    "    dcts = ts.resample('D').count()\n",
    "    dcts.to_csv(list_outputfiles[i], sep=',', encoding='utf-8')\n",
    "    "
   ]
  },
  {
   "cell_type": "code",
   "execution_count": null,
   "metadata": {
    "collapsed": true
   },
   "outputs": [],
   "source": []
  }
 ],
 "metadata": {
  "kernelspec": {
   "display_name": "Python 3",
   "language": "python",
   "name": "python3"
  },
  "language_info": {
   "codemirror_mode": {
    "name": "ipython",
    "version": 3
   },
   "file_extension": ".py",
   "mimetype": "text/x-python",
   "name": "python",
   "nbconvert_exporter": "python",
   "pygments_lexer": "ipython3",
   "version": "3.6.0"
  }
 },
 "nbformat": 4,
 "nbformat_minor": 2
}
