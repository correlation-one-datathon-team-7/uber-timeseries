{
 "cells": [
  {
   "cell_type": "code",
   "execution_count": 1,
   "metadata": {
    "collapsed": true
   },
   "outputs": [],
   "source": [
    "import matplotlib\n",
    "import matplotlib.pyplot as plt\n",
    "matplotlib.style.use('ggplot')\n",
    "%matplotlib inline\n",
    "import numpy as np\n",
    "\n",
    "# source file mlp.py\n",
    "import mlp"
   ]
  },
  {
   "cell_type": "code",
   "execution_count": 2,
   "metadata": {
    "collapsed": true
   },
   "outputs": [],
   "source": [
    "import pandas as pd\n",
    "\n",
    "\n"
   ]
  },
  {
   "cell_type": "code",
   "execution_count": 3,
   "metadata": {
    "collapsed": true
   },
   "outputs": [],
   "source": [
    "df = pd.read_csv(\"green_agg_count_day.csv\", header=0)"
   ]
  },
  {
   "cell_type": "code",
   "execution_count": 4,
   "metadata": {},
   "outputs": [
    {
     "data": {
      "text/html": [
       "<div>\n",
       "<table border=\"1\" class=\"dataframe\">\n",
       "  <thead>\n",
       "    <tr style=\"text-align: right;\">\n",
       "      <th></th>\n",
       "      <th>pickup_datetime</th>\n",
       "      <th>dropoff_datetime</th>\n",
       "      <th>pickup_longitude</th>\n",
       "      <th>pickup_latitude</th>\n",
       "      <th>dropoff_longitude</th>\n",
       "      <th>dropoff_latitude</th>\n",
       "    </tr>\n",
       "  </thead>\n",
       "  <tbody>\n",
       "    <tr>\n",
       "      <th>0</th>\n",
       "      <td>2014-04-01</td>\n",
       "      <td>36512</td>\n",
       "      <td>36512</td>\n",
       "      <td>36512</td>\n",
       "      <td>36512</td>\n",
       "      <td>36512</td>\n",
       "    </tr>\n",
       "    <tr>\n",
       "      <th>1</th>\n",
       "      <td>2014-04-02</td>\n",
       "      <td>37709</td>\n",
       "      <td>37709</td>\n",
       "      <td>37709</td>\n",
       "      <td>37709</td>\n",
       "      <td>37709</td>\n",
       "    </tr>\n",
       "    <tr>\n",
       "      <th>2</th>\n",
       "      <td>2014-04-03</td>\n",
       "      <td>41881</td>\n",
       "      <td>41881</td>\n",
       "      <td>41881</td>\n",
       "      <td>41881</td>\n",
       "      <td>41881</td>\n",
       "    </tr>\n",
       "    <tr>\n",
       "      <th>3</th>\n",
       "      <td>2014-04-04</td>\n",
       "      <td>51783</td>\n",
       "      <td>51783</td>\n",
       "      <td>51783</td>\n",
       "      <td>51783</td>\n",
       "      <td>51783</td>\n",
       "    </tr>\n",
       "    <tr>\n",
       "      <th>4</th>\n",
       "      <td>2014-04-05</td>\n",
       "      <td>57164</td>\n",
       "      <td>57164</td>\n",
       "      <td>57164</td>\n",
       "      <td>57164</td>\n",
       "      <td>57164</td>\n",
       "    </tr>\n",
       "  </tbody>\n",
       "</table>\n",
       "</div>"
      ],
      "text/plain": [
       "  pickup_datetime  dropoff_datetime  pickup_longitude  pickup_latitude  \\\n",
       "0      2014-04-01             36512             36512            36512   \n",
       "1      2014-04-02             37709             37709            37709   \n",
       "2      2014-04-03             41881             41881            41881   \n",
       "3      2014-04-04             51783             51783            51783   \n",
       "4      2014-04-05             57164             57164            57164   \n",
       "\n",
       "   dropoff_longitude  dropoff_latitude  \n",
       "0              36512             36512  \n",
       "1              37709             37709  \n",
       "2              41881             41881  \n",
       "3              51783             51783  \n",
       "4              57164             57164  "
      ]
     },
     "execution_count": 4,
     "metadata": {},
     "output_type": "execute_result"
    }
   ],
   "source": [
    "df.head()"
   ]
  },
  {
   "cell_type": "code",
   "execution_count": 5,
   "metadata": {},
   "outputs": [],
   "source": [
    "whole_sz = df.shape[0]\n",
    "\n"
   ]
  },
  {
   "cell_type": "code",
   "execution_count": 6,
   "metadata": {
    "collapsed": true
   },
   "outputs": [],
   "source": [
    "df['pickup_datetime'] = pd.to_datetime(df['pickup_datetime'])"
   ]
  },
  {
   "cell_type": "code",
   "execution_count": 7,
   "metadata": {
    "collapsed": true
   },
   "outputs": [],
   "source": [
    "ts = df['pickup_datetime'].values"
   ]
  },
  {
   "cell_type": "code",
   "execution_count": 8,
   "metadata": {},
   "outputs": [
    {
     "data": {
      "text/plain": [
       "numpy.datetime64('2014-04-01T00:00:00.000000000')"
      ]
     },
     "execution_count": 8,
     "metadata": {},
     "output_type": "execute_result"
    }
   ],
   "source": [
    "ts.min()"
   ]
  },
  {
   "cell_type": "code",
   "execution_count": 9,
   "metadata": {},
   "outputs": [],
   "source": [
    "x = (ts-ts.min()).astype('timedelta64[D]').astype(int)+1"
   ]
  },
  {
   "cell_type": "code",
   "execution_count": 10,
   "metadata": {},
   "outputs": [],
   "source": [
    "X = np.ndarray((x.shape[0],1))"
   ]
  },
  {
   "cell_type": "code",
   "execution_count": 11,
   "metadata": {},
   "outputs": [],
   "source": [
    "X[:,0] = x"
   ]
  },
  {
   "cell_type": "code",
   "execution_count": 20,
   "metadata": {},
   "outputs": [
    {
     "data": {
      "text/plain": [
       "array([[  1.],\n",
       "       [  2.],\n",
       "       [  3.],\n",
       "       [  4.],\n",
       "       [  5.],\n",
       "       [  6.],\n",
       "       [  7.],\n",
       "       [  8.],\n",
       "       [  9.],\n",
       "       [ 10.]])"
      ]
     },
     "execution_count": 20,
     "metadata": {},
     "output_type": "execute_result"
    }
   ],
   "source": [
    "X[:10]"
   ]
  },
  {
   "cell_type": "code",
   "execution_count": 12,
   "metadata": {
    "collapsed": true
   },
   "outputs": [],
   "source": [
    "y = df['dropoff_datetime'].values"
   ]
  },
  {
   "cell_type": "code",
   "execution_count": 13,
   "metadata": {},
   "outputs": [],
   "source": [
    "Y = np.ndarray((y.shape[0],1))"
   ]
  },
  {
   "cell_type": "code",
   "execution_count": 14,
   "metadata": {
    "collapsed": true
   },
   "outputs": [],
   "source": [
    "Y[:,0] = y"
   ]
  },
  {
   "cell_type": "code",
   "execution_count": 22,
   "metadata": {},
   "outputs": [
    {
     "data": {
      "text/plain": [
       "array([[ 36512.],\n",
       "       [ 37709.],\n",
       "       [ 41881.],\n",
       "       [ 51783.],\n",
       "       [ 57164.],\n",
       "       [ 47171.],\n",
       "       [ 39271.],\n",
       "       [ 35554.],\n",
       "       [ 38788.],\n",
       "       [ 41799.]])"
      ]
     },
     "execution_count": 22,
     "metadata": {},
     "output_type": "execute_result"
    }
   ],
   "source": [
    "Y[:10]"
   ]
  },
  {
   "cell_type": "code",
   "execution_count": 15,
   "metadata": {
    "collapsed": true
   },
   "outputs": [],
   "source": [
    "training_x, training_y, testing_x, testing_y = mlp.get_data_split(X, Y, 0.8)"
   ]
  },
  {
   "cell_type": "code",
   "execution_count": 16,
   "metadata": {},
   "outputs": [],
   "source": [
    "regression = mlp.MLP(training_x, training_y, hu_size=10)"
   ]
  },
  {
   "cell_type": "code",
   "execution_count": 17,
   "metadata": {},
   "outputs": [
    {
     "name": "stdout",
     "output_type": "stream",
     "text": [
      "Error (SSE) after epoch 0: [  3.74630599e+11]\n",
      "Error (SSE) after epoch 2000: [  3.74630599e+11]\n",
      "Error (SSE) after epoch 4000: [  3.74630599e+11]\n",
      "Error (SSE) after epoch 6000: [  3.74630599e+11]\n",
      "Error (SSE) after epoch 8000: [  3.74630599e+11]\n",
      "Error (SSE) after epoch 10000: [  3.74630599e+11]\n",
      "Error (SSE) after epoch 12000: [  3.74630599e+11]\n",
      "Error (SSE) after epoch 14000: [  3.74630599e+11]\n",
      "Error (SSE) after epoch 16000: [  3.74630599e+11]\n",
      "Error (SSE) after epoch 18000: [  3.74630599e+11]\n",
      "Error (SSE) after epoch 20000: [  3.74630599e+11]\n",
      "Error (SSE) after epoch 22000: [  3.74630599e+11]\n",
      "Error (SSE) after epoch 24000: [  3.74630599e+11]\n",
      "Error (SSE) after epoch 26000: [  3.74630599e+11]\n",
      "Error (SSE) after epoch 28000: [  3.74630599e+11]\n",
      "Error (SSE) after epoch 30000: [  3.74630599e+11]\n",
      "Error (SSE) after epoch 32000: [  3.74630599e+11]\n",
      "Error (SSE) after epoch 34000: [  3.74630599e+11]\n",
      "Error (SSE) after epoch 36000: [  3.74630599e+11]\n",
      "Error (SSE) after epoch 38000: [  3.74630599e+11]\n",
      "Error (SSE) after epoch 40000: [  3.74630599e+11]\n",
      "Error (SSE) after epoch 42000: [  3.74630599e+11]\n",
      "Error (SSE) after epoch 44000: [  3.74630599e+11]\n",
      "Error (SSE) after epoch 46000: [  3.74630599e+11]\n",
      "Error (SSE) after epoch 48000: [  3.74630599e+11]\n",
      "Error (SSE) after epoch 50000: [  3.74630599e+11]\n",
      "Error (SSE) after epoch 52000: [  3.74630599e+11]\n",
      "Error (SSE) after epoch 54000: [  3.74630599e+11]\n",
      "Error (SSE) after epoch 56000: [  3.74630599e+11]\n",
      "Error (SSE) after epoch 58000: [  3.74630599e+11]\n",
      "Error (SSE) after epoch 60000: [  3.74630599e+11]\n",
      "Error (SSE) after epoch 62000: [  3.74630599e+11]\n",
      "Error (SSE) after epoch 64000: [  3.74630599e+11]\n",
      "Error (SSE) after epoch 66000: [  3.74630599e+11]\n",
      "Error (SSE) after epoch 68000: [  3.74630599e+11]\n",
      "Error (SSE) after epoch 70000: [  3.74630599e+11]\n",
      "Error (SSE) after epoch 72000: [  3.74630599e+11]\n",
      "Error (SSE) after epoch 74000: [  3.74630599e+11]\n",
      "Error (SSE) after epoch 76000: [  3.74630599e+11]\n",
      "Error (SSE) after epoch 78000: [  3.74630599e+11]\n",
      "Error (SSE) after epoch 80000: [  3.74630599e+11]\n",
      "Error (SSE) after epoch 82000: [  3.74630599e+11]\n",
      "Error (SSE) after epoch 84000: [  3.74630599e+11]\n",
      "Error (SSE) after epoch 86000: [  3.74630599e+11]\n",
      "Error (SSE) after epoch 88000: [  3.74630599e+11]\n",
      "Error (SSE) after epoch 90000: [  3.74630599e+11]\n",
      "Error (SSE) after epoch 92000: [  3.74630599e+11]\n",
      "Error (SSE) after epoch 94000: [  3.74630599e+11]\n",
      "Error (SSE) after epoch 96000: [  3.74630599e+11]\n",
      "Error (SSE) after epoch 98000: [  3.74630599e+11]\n",
      "Error (SSE) after epoch 100000: [  3.74630599e+11]\n",
      "Error (SSE) after epoch 102000: [  3.74630599e+11]\n",
      "Error (SSE) after epoch 104000: [  3.74630599e+11]\n",
      "Error (SSE) after epoch 106000: [  3.74630599e+11]\n",
      "Error (SSE) after epoch 108000: [  3.74630599e+11]\n",
      "Error (SSE) after epoch 110000: [  3.74630599e+11]\n",
      "Error (SSE) after epoch 112000: [  3.74630599e+11]\n",
      "Error (SSE) after epoch 114000: [  3.74630599e+11]\n",
      "Error (SSE) after epoch 116000: [  3.74630599e+11]\n",
      "Error (SSE) after epoch 118000: [  3.74630599e+11]\n",
      "Error (SSE) after epoch 120000: [  3.74630599e+11]\n",
      "Error (SSE) after epoch 122000: [  3.74630599e+11]\n",
      "Error (SSE) after epoch 124000: [  3.74630599e+11]\n",
      "Error (SSE) after epoch 126000: [  3.74630599e+11]\n",
      "Error (SSE) after epoch 128000: [  3.74630599e+11]\n",
      "Error (SSE) after epoch 130000: [  3.74630599e+11]\n",
      "Error (SSE) after epoch 132000: [  3.74630599e+11]\n",
      "Error (SSE) after epoch 134000: [  3.74630599e+11]\n",
      "Error (SSE) after epoch 136000: [  3.74630599e+11]\n",
      "Error (SSE) after epoch 138000: [  3.74630599e+11]\n",
      "Error (SSE) after epoch 140000: [  3.74630599e+11]\n",
      "Error (SSE) after epoch 142000: [  3.74630599e+11]\n",
      "Error (SSE) after epoch 144000: [  3.74630599e+11]\n",
      "Error (SSE) after epoch 146000: [  3.74630599e+11]\n",
      "Error (SSE) after epoch 148000: [  3.74630599e+11]\n",
      "Error (SSE) after epoch 150000: [  3.74630599e+11]\n",
      "Error (SSE) after epoch 152000: [  3.74630599e+11]\n",
      "Error (SSE) after epoch 154000: [  3.74630599e+11]\n",
      "Error (SSE) after epoch 156000: [  3.74630599e+11]\n",
      "Error (SSE) after epoch 158000: [  3.74630599e+11]\n",
      "Error (SSE) after epoch 160000: [  3.74630599e+11]\n",
      "Error (SSE) after epoch 162000: [  3.74630599e+11]\n",
      "Error (SSE) after epoch 164000: [  3.74630599e+11]\n",
      "Error (SSE) after epoch 166000: [  3.74630599e+11]\n",
      "Error (SSE) after epoch 168000: [  3.74630599e+11]\n",
      "Error (SSE) after epoch 170000: [  3.74630599e+11]\n",
      "Error (SSE) after epoch 172000: [  3.74630599e+11]\n",
      "Error (SSE) after epoch 174000: [  3.74630599e+11]\n",
      "Error (SSE) after epoch 176000: [  3.74630599e+11]\n",
      "Error (SSE) after epoch 178000: [  3.74630599e+11]\n",
      "Error (SSE) after epoch 180000: [  3.74630599e+11]\n",
      "Error (SSE) after epoch 182000: [  3.74630599e+11]\n",
      "Error (SSE) after epoch 184000: [  3.74630599e+11]\n",
      "Error (SSE) after epoch 186000: [  3.74630599e+11]\n",
      "Error (SSE) after epoch 188000: [  3.74630599e+11]\n",
      "Error (SSE) after epoch 190000: [  3.74630599e+11]\n",
      "Error (SSE) after epoch 192000: [  3.74630599e+11]\n",
      "Error (SSE) after epoch 194000: [  3.74630599e+11]\n",
      "Error (SSE) after epoch 196000: [  3.74630599e+11]\n",
      "Error (SSE) after epoch 198000: [  3.74630599e+11]\n"
     ]
    },
    {
     "data": {
      "text/plain": [
       "([],\n",
       " [(0, array([  3.74630599e+11])),\n",
       "  (2000, array([  3.74630599e+11])),\n",
       "  (4000, array([  3.74630599e+11])),\n",
       "  (6000, array([  3.74630599e+11])),\n",
       "  (8000, array([  3.74630599e+11])),\n",
       "  (10000, array([  3.74630599e+11])),\n",
       "  (12000, array([  3.74630599e+11])),\n",
       "  (14000, array([  3.74630599e+11])),\n",
       "  (16000, array([  3.74630599e+11])),\n",
       "  (18000, array([  3.74630599e+11])),\n",
       "  (20000, array([  3.74630599e+11])),\n",
       "  (22000, array([  3.74630599e+11])),\n",
       "  (24000, array([  3.74630599e+11])),\n",
       "  (26000, array([  3.74630599e+11])),\n",
       "  (28000, array([  3.74630599e+11])),\n",
       "  (30000, array([  3.74630599e+11])),\n",
       "  (32000, array([  3.74630599e+11])),\n",
       "  (34000, array([  3.74630599e+11])),\n",
       "  (36000, array([  3.74630599e+11])),\n",
       "  (38000, array([  3.74630599e+11])),\n",
       "  (40000, array([  3.74630599e+11])),\n",
       "  (42000, array([  3.74630599e+11])),\n",
       "  (44000, array([  3.74630599e+11])),\n",
       "  (46000, array([  3.74630599e+11])),\n",
       "  (48000, array([  3.74630599e+11])),\n",
       "  (50000, array([  3.74630599e+11])),\n",
       "  (52000, array([  3.74630599e+11])),\n",
       "  (54000, array([  3.74630599e+11])),\n",
       "  (56000, array([  3.74630599e+11])),\n",
       "  (58000, array([  3.74630599e+11])),\n",
       "  (60000, array([  3.74630599e+11])),\n",
       "  (62000, array([  3.74630599e+11])),\n",
       "  (64000, array([  3.74630599e+11])),\n",
       "  (66000, array([  3.74630599e+11])),\n",
       "  (68000, array([  3.74630599e+11])),\n",
       "  (70000, array([  3.74630599e+11])),\n",
       "  (72000, array([  3.74630599e+11])),\n",
       "  (74000, array([  3.74630599e+11])),\n",
       "  (76000, array([  3.74630599e+11])),\n",
       "  (78000, array([  3.74630599e+11])),\n",
       "  (80000, array([  3.74630599e+11])),\n",
       "  (82000, array([  3.74630599e+11])),\n",
       "  (84000, array([  3.74630599e+11])),\n",
       "  (86000, array([  3.74630599e+11])),\n",
       "  (88000, array([  3.74630599e+11])),\n",
       "  (90000, array([  3.74630599e+11])),\n",
       "  (92000, array([  3.74630599e+11])),\n",
       "  (94000, array([  3.74630599e+11])),\n",
       "  (96000, array([  3.74630599e+11])),\n",
       "  (98000, array([  3.74630599e+11])),\n",
       "  (100000, array([  3.74630599e+11])),\n",
       "  (102000, array([  3.74630599e+11])),\n",
       "  (104000, array([  3.74630599e+11])),\n",
       "  (106000, array([  3.74630599e+11])),\n",
       "  (108000, array([  3.74630599e+11])),\n",
       "  (110000, array([  3.74630599e+11])),\n",
       "  (112000, array([  3.74630599e+11])),\n",
       "  (114000, array([  3.74630599e+11])),\n",
       "  (116000, array([  3.74630599e+11])),\n",
       "  (118000, array([  3.74630599e+11])),\n",
       "  (120000, array([  3.74630599e+11])),\n",
       "  (122000, array([  3.74630599e+11])),\n",
       "  (124000, array([  3.74630599e+11])),\n",
       "  (126000, array([  3.74630599e+11])),\n",
       "  (128000, array([  3.74630599e+11])),\n",
       "  (130000, array([  3.74630599e+11])),\n",
       "  (132000, array([  3.74630599e+11])),\n",
       "  (134000, array([  3.74630599e+11])),\n",
       "  (136000, array([  3.74630599e+11])),\n",
       "  (138000, array([  3.74630599e+11])),\n",
       "  (140000, array([  3.74630599e+11])),\n",
       "  (142000, array([  3.74630599e+11])),\n",
       "  (144000, array([  3.74630599e+11])),\n",
       "  (146000, array([  3.74630599e+11])),\n",
       "  (148000, array([  3.74630599e+11])),\n",
       "  (150000, array([  3.74630599e+11])),\n",
       "  (152000, array([  3.74630599e+11])),\n",
       "  (154000, array([  3.74630599e+11])),\n",
       "  (156000, array([  3.74630599e+11])),\n",
       "  (158000, array([  3.74630599e+11])),\n",
       "  (160000, array([  3.74630599e+11])),\n",
       "  (162000, array([  3.74630599e+11])),\n",
       "  (164000, array([  3.74630599e+11])),\n",
       "  (166000, array([  3.74630599e+11])),\n",
       "  (168000, array([  3.74630599e+11])),\n",
       "  (170000, array([  3.74630599e+11])),\n",
       "  (172000, array([  3.74630599e+11])),\n",
       "  (174000, array([  3.74630599e+11])),\n",
       "  (176000, array([  3.74630599e+11])),\n",
       "  (178000, array([  3.74630599e+11])),\n",
       "  (180000, array([  3.74630599e+11])),\n",
       "  (182000, array([  3.74630599e+11])),\n",
       "  (184000, array([  3.74630599e+11])),\n",
       "  (186000, array([  3.74630599e+11])),\n",
       "  (188000, array([  3.74630599e+11])),\n",
       "  (190000, array([  3.74630599e+11])),\n",
       "  (192000, array([  3.74630599e+11])),\n",
       "  (194000, array([  3.74630599e+11])),\n",
       "  (196000, array([  3.74630599e+11])),\n",
       "  (198000, array([  3.74630599e+11]))])"
      ]
     },
     "execution_count": 17,
     "metadata": {},
     "output_type": "execute_result"
    }
   ],
   "source": [
    "regression.train(classification=False,\n",
    "                 epoch=200000,\n",
    "                 print_loss=True,\n",
    "#                  testset_X=testing_x,\n",
    "#                  testset_y=testing_y\n",
    "                )"
   ]
  },
  {
   "cell_type": "code",
   "execution_count": 18,
   "metadata": {
    "collapsed": true
   },
   "outputs": [],
   "source": [
    "# sample_sz = mlp.get_training_idx(whole_sz, 0.8)"
   ]
  },
  {
   "cell_type": "code",
   "execution_count": null,
   "metadata": {
    "collapsed": true
   },
   "outputs": [],
   "source": []
  },
  {
   "cell_type": "code",
   "execution_count": null,
   "metadata": {
    "collapsed": true
   },
   "outputs": [],
   "source": []
  }
 ],
 "metadata": {
  "kernelspec": {
   "display_name": "Python 3",
   "language": "python",
   "name": "python3"
  },
  "language_info": {
   "codemirror_mode": {
    "name": "ipython",
    "version": 3
   },
   "file_extension": ".py",
   "mimetype": "text/x-python",
   "name": "python",
   "nbconvert_exporter": "python",
   "pygments_lexer": "ipython3",
   "version": "3.6.0"
  }
 },
 "nbformat": 4,
 "nbformat_minor": 2
}
